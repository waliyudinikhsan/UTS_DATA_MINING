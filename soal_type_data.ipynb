{
 "cells": [
  {
   "cell_type": "code",
   "execution_count": 2,
   "id": "1417fbc8-f2bf-4038-8ea5-85c14761ac2b",
   "metadata": {},
   "outputs": [],
   "source": [
    "# Inisialisasi data\n",
    "company_name_list = [{'name': 'Company 1'},\n",
    "                     {'name': 'Company 2'},\n",
    "                     {'name': 'Company 3'}]\n",
    "\n",
    "employee_name_list = [{'name': 'John Doe'},\n",
    "                      {'name': 'Tom Smith'},\n",
    "                      {'name': 'Andrew Sebastian'}]\n",
    "\n",
    "company_detail_list = {\n",
    "    'Company 1': {\n",
    "        'name': 'Company 1',\n",
    "        'domain': 'Retail',\n",
    "        'clients': [\n",
    "            {\n",
    "                'name': 'acme.inc',\n",
    "                'country': 'united states'\n",
    "            },\n",
    "            {\n",
    "                'name': 'Wayne.co',\n",
    "                'country': 'united states'\n",
    "            }\n",
    "        ]\n",
    "    },\n",
    "    'Company 2': {\n",
    "        'name': 'Company 2',\n",
    "        'domain': 'Construction',\n",
    "        'clients': [\n",
    "            {\n",
    "                'name': 'Tesla',\n",
    "                'country': 'united states'\n",
    "            },\n",
    "            {\n",
    "                'name': 'Japan Airlines',\n",
    "                'country': 'japan'\n",
    "            },\n",
    "            {\n",
    "                'name': 'Indofood',\n",
    "                'country': 'indonesia'\n",
    "            }\n",
    "        ]\n",
    "    },\n",
    "    'Company 3': {\n",
    "        'name': 'Company 3',\n",
    "        'domain': 'Healthcare',\n",
    "        'clients': [\n",
    "            {\n",
    "                'name': 'Petronas',\n",
    "                'country': 'malaysia'\n",
    "            },\n",
    "            {\n",
    "                'name': 'VW Group',\n",
    "                'country': 'germany'\n",
    "            },\n",
    "            {\n",
    "                'name': 'IBM',\n",
    "                'country': 'united states'\n",
    "            },\n",
    "            {\n",
    "                'name': 'Mitsubishi',\n",
    "                'country': 'japan'\n",
    "            }\n",
    "        ]\n",
    "    }\n",
    "}\n",
    "\n",
    "employee_detail_list = {\n",
    "    'John Doe': {\n",
    "        'name': 'EMP-0001',\n",
    "        'first_name': 'John',\n",
    "        'last_name': 'Doe',\n",
    "        'full_name': 'John Doe',\n",
    "        'company': 'Company 1'\n",
    "    },\n",
    "    'Tom Smith': {\n",
    "        'name': 'EMP-0002',\n",
    "        'first_name': 'Tom',\n",
    "        'last_name': 'Smith',\n",
    "        'full_name': 'Tom Smith',\n",
    "        'company': 'Company 2'\n",
    "    },\n",
    "    'Andrew Sebastian': {\n",
    "        'name': 'EMP-0003',\n",
    "        'first_name': 'Andrew',\n",
    "        'last_name': 'Sebastian',\n",
    "        'full_name': 'Andrew Sebastian',\n",
    "        'company': 'Company 2'\n",
    "    },\n",
    "}"
   ]
  },
  {
   "cell_type": "code",
   "execution_count": 3,
   "id": "9f4bdeab-a206-4735-abfb-4afc7182f582",
   "metadata": {},
   "outputs": [],
   "source": [
    "# Fungsi untuk mengurutkan perusahaan berdasarkan domain secara terbalik\n",
    "def sort_company():\n",
    "    sorted_companies = sorted(company_detail_list.values(), key=lambda x: x['domain'], reverse=True)\n",
    "    return [{\"name\": company['name'], \"domain\": company['domain']} for company in sorted_companies]"
   ]
  },
  {
   "cell_type": "code",
   "execution_count": 4,
   "id": "c7baecf7-a979-43fa-a029-ff90c9451229",
   "metadata": {},
   "outputs": [],
   "source": [
    "# Fungsi untuk mencetak nilai domain dalam setiap perusahaan\n",
    "def get_company_domain():\n",
    "    for company_name, company_detail in company_detail_list.items():\n",
    "        print(f\"{company_name}: {company_detail['domain']}, relation: {len(company_detail['clients'])} clients\")"
   ]
  },
  {
   "cell_type": "code",
   "execution_count": 5,
   "id": "a164b5a3-6b78-4c05-800f-fcaab80da6d3",
   "metadata": {},
   "outputs": [],
   "source": [
    "# Fungsi untuk mendapatkan karyawan beserta domain perusahaannya\n",
    "def get_employees():\n",
    "    return [{\"full_name\": employee['full_name'], \"company\": employee['company'], \"domain\": company_detail_list[employee['company']]['domain']} \n",
    "            for employee in employee_detail_list.values()]"
   ]
  },
  {
   "cell_type": "code",
   "execution_count": 6,
   "id": "35f8ad80-8586-4388-9fd7-4f7e9a9b00ca",
   "metadata": {},
   "outputs": [],
   "source": [
    "# Fungsi untuk mendapatkan perusahaan beserta daftar karyawan yang bekerja di perusahaan tersebut\n",
    "def get_employees_by_company():\n",
    "    employees_by_company = {company['name']: [] for company in company_name_list}\n",
    "    for employee, details in employee_detail_list.items():\n",
    "        employees_by_company[details['company']].append(details['full_name'])\n",
    "    return [{\"company\": company, \"employees\": employees} for company, employees in employees_by_company.items()]"
   ]
  },
  {
   "cell_type": "code",
   "execution_count": 7,
   "id": "83eaf128-8b8d-4193-aece-ee099750bb56",
   "metadata": {},
   "outputs": [
    {
     "name": "stdout",
     "output_type": "stream",
     "text": [
      "Sorted Companies: [{'name': 'Company 1', 'domain': 'Retail'}, {'name': 'Company 3', 'domain': 'Healthcare'}, {'name': 'Company 2', 'domain': 'Construction'}]\n"
     ]
    }
   ],
   "source": [
    "# Jalankan fungsi untuk mengurutkan perusahaan berdasarkan domain secara terbalik\n",
    "sorted_companies = sort_company()\n",
    "print(\"Sorted Companies:\", sorted_companies)"
   ]
  },
  {
   "cell_type": "code",
   "execution_count": 8,
   "id": "1352b4b5-3ead-4778-aad2-c51097fa0b56",
   "metadata": {},
   "outputs": [
    {
     "name": "stdout",
     "output_type": "stream",
     "text": [
      "\n",
      "Company Domains:\n",
      "Company 1: Retail, relation: 2 clients\n",
      "Company 2: Construction, relation: 3 clients\n",
      "Company 3: Healthcare, relation: 4 clients\n"
     ]
    }
   ],
   "source": [
    "# Jalankan fungsi untuk mencetak nilai domain dalam setiap perusahaan\n",
    "print(\"\\nCompany Domains:\")\n",
    "get_company_domain()"
   ]
  },
  {
   "cell_type": "code",
   "execution_count": 9,
   "id": "169d6e64-1d9e-4ebe-9650-1f689717b420",
   "metadata": {},
   "outputs": [
    {
     "name": "stdout",
     "output_type": "stream",
     "text": [
      "\n",
      "Employees with Domain: [{'full_name': 'John Doe', 'company': 'Company 1', 'domain': 'Retail'}, {'full_name': 'Tom Smith', 'company': 'Company 2', 'domain': 'Construction'}, {'full_name': 'Andrew Sebastian', 'company': 'Company 2', 'domain': 'Construction'}]\n"
     ]
    }
   ],
   "source": [
    "# Jalankan fungsi untuk mendapatkan karyawan beserta domain perusahaannya\n",
    "employees_with_domain = get_employees()\n",
    "print(\"\\nEmployees with Domain:\", employees_with_domain)"
   ]
  },
  {
   "cell_type": "code",
   "execution_count": 10,
   "id": "0ca05620-25f0-42ff-8101-f9aa139cf6d4",
   "metadata": {},
   "outputs": [
    {
     "name": "stdout",
     "output_type": "stream",
     "text": [
      "\n",
      "Employees by Company: [{'company': 'Company 1', 'employees': ['John Doe']}, {'company': 'Company 2', 'employees': ['Tom Smith', 'Andrew Sebastian']}, {'company': 'Company 3', 'employees': []}]\n"
     ]
    }
   ],
   "source": [
    "# Jalankan fungsi untuk mendapatkan perusahaan beserta daftar karyawan yang bekerja di perusahaan tersebut\n",
    "employees_by_company = get_employees_by_company()\n",
    "print(\"\\nEmployees by Company:\", employees_by_company)"
   ]
  },
  {
   "cell_type": "code",
   "execution_count": null,
   "id": "c9790341-2486-4bd9-9798-20384f14439e",
   "metadata": {},
   "outputs": [],
   "source": []
  },
  {
   "cell_type": "code",
   "execution_count": null,
   "id": "eb2309f9-9284-4767-85d8-73ded150580c",
   "metadata": {},
   "outputs": [],
   "source": []
  },
  {
   "cell_type": "code",
   "execution_count": null,
   "id": "b83bcc18-5f3f-498f-a542-614eb2d3d045",
   "metadata": {},
   "outputs": [],
   "source": []
  }
 ],
 "metadata": {
  "kernelspec": {
   "display_name": "Python 3 (ipykernel)",
   "language": "python",
   "name": "python3"
  },
  "language_info": {
   "codemirror_mode": {
    "name": "ipython",
    "version": 3
   },
   "file_extension": ".py",
   "mimetype": "text/x-python",
   "name": "python",
   "nbconvert_exporter": "python",
   "pygments_lexer": "ipython3",
   "version": "3.11.7"
  }
 },
 "nbformat": 4,
 "nbformat_minor": 5
}
